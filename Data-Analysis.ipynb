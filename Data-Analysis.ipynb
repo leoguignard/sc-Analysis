{
 "cells": [
  {
   "cell_type": "markdown",
   "metadata": {},
   "source": [
    "# sc-omics \"analysis\"\n",
    "\n",
    "I could not put test data within the git repository, too big.\n",
    "Please ask me if you want some.\n",
    "\n",
    "Cheers, Léo"
   ]
  },
  {
   "cell_type": "code",
   "execution_count": null,
   "metadata": {},
   "outputs": [],
   "source": [
    "import warnings\n",
    "warnings.filterwarnings('ignore')\n",
    "import numpy as np\n",
    "import matplotlib as mpl\n",
    "from matplotlib import pyplot as plt\n",
    "import os\n",
    "import scanpy as sc\n",
    "import anndata as ad\n",
    "from utilities import *\n",
    "%matplotlib inline"
   ]
  },
  {
   "cell_type": "markdown",
   "metadata": {},
   "source": [
    "## Updating the gene names\n",
    "The following cell allows you to transform a csv file that contains Ensembl ids into a csv file that contains the corresponding gene names, easing the data analysis.\n",
    "\n",
    "The function takes a .csv file name fi (`your_name.csv`), and transform it into a new file (`your_name.Genes.csv`).\n",
    "\n",
    "### THIS CELL IS NOT NECESSARY FOR EVERY RUN, JUST THE FIRST ONE"
   ]
  },
  {
   "cell_type": "code",
   "execution_count": null,
   "metadata": {},
   "outputs": [],
   "source": [
    "f = 'path/to/data.csv'\n",
    "enseml2gene(f, f_ensembl='utilities/Ensembl2Gene.txt')"
   ]
  },
  {
   "cell_type": "markdown",
   "metadata": {},
   "source": [
    "# Loading the data\n",
    "The next cell loads the data.\n",
    "If the data has never be load before, it will also perform the usual normalisation and filtering functions (extracted from the tutorial in scanpy tutorial [website](https://scanpy-tutorials.readthedocs.io/en/latest/pbmc3k.html)):\n",
    "- filtering out genes that are expressed in less than 3 cells\n",
    "- filtering out cells that have fewer than 200 genes expressed\n",
    "- normalization of cell total expression for a target sum of expressions at $10^4$\n",
    "- logarithmize the expression\n",
    "- only keeping the highly variable genes\n",
    "- scale the data\n",
    "- PCA\n",
    "- umap\n",
    "- Leiden clustering (graph Neighborhood clustering, neighbourhood of size $10$ with $40$ PCs and a Leiden clustering with a threshold value of $0.25$)\n",
    "\n",
    "## Filtering againt mitotic cells and number of counts\n",
    "It is possible to filter out cells with too high number of counts and/or to high percent of mitotic expression compared to other expression.\n",
    "\n",
    "To do so you need to change the parameter `filter_ncounts` (resp. `filter_mito`) to either `True` to be asked for a threshold value or to a digit value to perform the thresholding directly.\n",
    "\n",
    "If you choose not to enter the value directly (`filter_ncounts` or `filter_mito` at `True`), then an histogram of the distribution will be shown to you to help choose a decent value.\n",
    "\n",
    "## Quick reloading\n",
    "When running the script on a csv file for the first time, an h5ad file will be saved (same name as the csv but with h5ad instead of csv). You can directly reload it later on by running the following cell with the h5ad file instead of the csv file.\n",
    "\n",
    "__Be careful though, all filtering done during the first step is saved in the h5ad file, keep that in mind__"
   ]
  },
  {
   "cell_type": "code",
   "execution_count": null,
   "metadata": {
    "scrolled": true
   },
   "outputs": [],
   "source": [
    "f = 'Data/CR_E11_5Black6FLs.Genes.csv'\n",
    "adata = get_clusters_et_al(f, filter_ncounts=True, filter_mito=True, size=20, reload_file=True)"
   ]
  },
  {
   "cell_type": "markdown",
   "metadata": {},
   "source": [
    "# New clustering and significant genes\n",
    "The two following cells allow you to produce a new clustering.\n",
    "\n",
    "### First cell\n",
    "The first cell is the clustering itself:\n",
    "- The first line allows you to build the neighbourhood by choose the number of neighbours and the number of PCs\n",
    "- The second line allows you to compute the clustering and fixing the threshold value, as a rule of thumb, the higher the value is, the higher the number of clusters will be\n",
    "- The third and fourth lines allow you to project the results of the clustering onto the umap\n",
    "\n",
    "### Second cell\n",
    "The second cell allows you to compute the most significant genes for each clusters.\n",
    "\n",
    "Two methods are available, `'t-test'` and `'wilcoxon'`, they raise different results but I don't know the details of the methods...\n",
    "\n",
    "Note that there is a variable `save=` in the function, it allows you to save the results of the gene ranking and it will append the `string` to the name of the file. By putting `save=None` you can avoid saving the figure"
   ]
  },
  {
   "cell_type": "markdown",
   "metadata": {},
   "source": [
    "## Frist cell"
   ]
  },
  {
   "cell_type": "code",
   "execution_count": null,
   "metadata": {},
   "outputs": [],
   "source": [
    "sc.pp.neighbors(adata, n_neighbors=10, n_pcs=40)\n",
    "sc.tl.leiden(adata, .25)\n",
    "sc.pl.umap(adata, color=['leiden'], size=5);"
   ]
  },
  {
   "cell_type": "markdown",
   "metadata": {},
   "source": [
    "## Second cell"
   ]
  },
  {
   "cell_type": "code",
   "execution_count": null,
   "metadata": {},
   "outputs": [],
   "source": [
    "sc.tl.rank_genes_groups(adata, 'leiden', method='t-test')\n",
    "sc.pl.rank_genes_groups(adata, n_genes=25, sharey=False, show=True, save='.t-test.0.25.pdf')\n",
    "\n",
    "\n",
    "sc.tl.rank_genes_groups(adata, 'leiden', method='wilcoxon')\n",
    "sc.pl.rank_genes_groups(adata, n_genes=25, sharey=False, show=True, save='.wilcoxon.0.25.pdf')"
   ]
  },
  {
   "cell_type": "markdown",
   "metadata": {},
   "source": [
    "## Find genes names within the data\n",
    "This function allows you to list the genes within your dataset that fit a given pattern"
   ]
  },
  {
   "cell_type": "markdown",
   "metadata": {},
   "source": [
    "## Umap plots\n",
    "The following cell allows you to plot the umap with clustering and gene expression paterns.\n",
    "\n",
    "You can change the list of genes to look at by changing the list after `color=`\n",
    "\n",
    "You can change the colormap by changing the value after `color_map=`. The most common color maps are `Reds` and `viridis` but you can find a list of available colormaps [there](https://matplotlib.org/3.1.1/tutorials/colors/colormaps.html).\n",
    "\n",
    "You can change the size of the dots in the figures by changing the value after `size=`.\n",
    "\n",
    "You can save the outputed figure by uncommenting the last line of the cell. The parameter of the function is the name of the output figure.\n",
    "\n",
    "Note that for both cells, the 4th line allows you to save the figure under a given name."
   ]
  },
  {
   "cell_type": "code",
   "execution_count": null,
   "metadata": {},
   "outputs": [],
   "source": [
    "fig = sc.pl.umap(adata, color=['leiden'],\n",
    "                 size=10, show=False, return_fig=True, color_map='Reds')\n",
    "\n",
    "#fig.savefig('figures/UMAP.E10FL.0.095.leidenGenes.pdf')"
   ]
  },
  {
   "cell_type": "code",
   "execution_count": null,
   "metadata": {},
   "outputs": [],
   "source": [
    "fig = sc.pl.umap(adata, color=['Fgf10','Fgf8','Bmp7','Msx2','Bmp4','Myod1'],\n",
    "                 size=10, show=False, return_fig=True, color_map='Reds')\n",
    "\n",
    "#fig.savefig('figures/UMAP.E9FL.0.65.Bmp2Genes.pdf')"
   ]
  },
  {
   "cell_type": "markdown",
   "metadata": {},
   "source": [
    "## Histogram plots\n",
    "The following cell allows you to plot histogram of gene expression distribution.\n",
    "\n",
    "You can change the list of genes to look at by changing the list after `adata, `\n",
    "\n",
    "You can change the number of bins by changing the value after `bins=`\n",
    "\n",
    "You can change whether the plot is in logarithm scale or not by changing the value after `logscale=` between `True` and `False` (please make sure correctly write the capital letters)"
   ]
  },
  {
   "cell_type": "code",
   "execution_count": null,
   "metadata": {
    "scrolled": false
   },
   "outputs": [],
   "source": [
    "fig = plot_gene_distribution(adata, ['Bmp2','Sox9','Bmpr1a','Bmpr1b','Bmpr2','Myod1'],\n",
    "                             bins=30, logscale=True)\n",
    "\n",
    "#fig.savefig('figures/Histograms.E9FL.0.65.Bmp2Genes.pdf')"
   ]
  },
  {
   "cell_type": "markdown",
   "metadata": {},
   "source": [
    "## Violin plots\n",
    "The two following cells allow you to plot the violin plots of the distribution of some given genes.\n",
    "\n",
    "Similarly to the histogram plots you can change the genes you want to look at by changing the list after `adata, `.\n",
    "\n",
    "To save the figure you need to change the parameter save to a string value. The string value will be append to the name of the output file (being of the form `figures/violin<your_input>`, similarly to the [rank_gene_groups](http://localhost:8888/notebooks/Data-Analysis-Alicia.ipynb#Second-cell))\n",
    "\n",
    "You can also change the figure size by changing the parameter `figsize=`"
   ]
  },
  {
   "cell_type": "code",
   "execution_count": null,
   "metadata": {},
   "outputs": [],
   "source": [
    "sc.pl.violin(adata, ['Bmp4', 'Fgf8'], groupby='leiden', save=None)"
   ]
  },
  {
   "cell_type": "code",
   "execution_count": null,
   "metadata": {},
   "outputs": [],
   "source": [
    "sc.pl.stacked_violin(adata, ['Bmp2','Sox9','Bmpr1a','Bmpr1b','Bmpr2','Myod1'],\n",
    "                     groupby='leiden', figsize=(10, 20), save=None);"
   ]
  },
  {
   "cell_type": "markdown",
   "metadata": {},
   "source": [
    "## Dot plots\n",
    "The following cells plot the dot plot of gene intensity and presence for each cluster\n",
    "\n",
    "You can to only average the expression accross cells that express (`mean_only_expressed=True`) or all the cells (`mean_only_expressed=False`).\n",
    "\n",
    "You can choose to threshold the values of maximum ratio of presence of a gene within a cluster (`dot_max=.4` for example wil make the larger cirle to represent a ratio of .4)."
   ]
  },
  {
   "cell_type": "code",
   "execution_count": null,
   "metadata": {},
   "outputs": [],
   "source": [
    "sc.pl.dotplot(adata, ['Bmp2','Sox9','Bmpr1a','Bmpr1b','Bmpr2','Myod1'],\n",
    "              groupby='leiden',figsize=(5, 5), mean_only_expressed=False,\n",
    "             dot_max=.4);"
   ]
  }
 ],
 "metadata": {
  "kernelspec": {
   "display_name": "Python 3",
   "language": "python",
   "name": "python3"
  },
  "language_info": {
   "codemirror_mode": {
    "name": "ipython",
    "version": 3
   },
   "file_extension": ".py",
   "mimetype": "text/x-python",
   "name": "python",
   "nbconvert_exporter": "python",
   "pygments_lexer": "ipython3",
   "version": "3.7.3"
  }
 },
 "nbformat": 4,
 "nbformat_minor": 4
}
